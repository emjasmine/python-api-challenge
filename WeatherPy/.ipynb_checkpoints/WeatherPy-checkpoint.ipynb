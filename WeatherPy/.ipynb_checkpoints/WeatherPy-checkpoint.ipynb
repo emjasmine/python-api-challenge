{
 "cells": [
  {
   "cell_type": "markdown",
   "metadata": {},
   "source": [
    "# WeatherPy\n",
    "----\n",
    "\n",
    "#### Note\n",
    "* Instructions have been included for each segment. You do not have to follow them exactly, but they are included to help you think through the steps."
   ]
  },
  {
   "cell_type": "code",
   "execution_count": 1,
   "metadata": {
    "scrolled": true
   },
   "outputs": [],
   "source": [
    "# Dependencies and Setup\n",
    "import matplotlib.pyplot as plt\n",
    "import pandas as pd\n",
    "import numpy as np\n",
    "import requests\n",
    "import time\n",
    "from scipy.stats import linregress\n",
    "\n",
    "# Import API key\n",
    "from api_keys import weather_api_key\n",
    "\n",
    "# Incorporated citipy to determine city based on latitude and longitude\n",
    "from citipy import citipy\n",
    "\n",
    "# Output File (CSV)\n",
    "output_data_file = \"output_data/cities.csv\"\n",
    "\n",
    "# Range of latitudes and longitudes\n",
    "lat_range = (-90, 90)\n",
    "lng_range = (-180, 180)"
   ]
  },
  {
   "cell_type": "markdown",
   "metadata": {},
   "source": [
    "## Generate Cities List"
   ]
  },
  {
   "cell_type": "code",
   "execution_count": 2,
   "metadata": {},
   "outputs": [
    {
     "data": {
      "text/plain": [
       "623"
      ]
     },
     "execution_count": 2,
     "metadata": {},
     "output_type": "execute_result"
    }
   ],
   "source": [
    "# List for holding lat_lngs and cities\n",
    "lat_lngs = []\n",
    "cities = []\n",
    "\n",
    "# Create a set of random lat and lng combinations\n",
    "lats = np.random.uniform(lat_range[0], lat_range[1], size=1500)\n",
    "lngs = np.random.uniform(lng_range[0], lng_range[1], size=1500)\n",
    "lat_lngs = zip(lats, lngs)\n",
    "\n",
    "# Identify nearest city for each lat, lng combination\n",
    "for lat_lng in lat_lngs:\n",
    "    city = citipy.nearest_city(lat_lng[0], lat_lng[1]).city_name\n",
    "    \n",
    "    # If the city is unique, then add it to a our cities list\n",
    "    if city not in cities:\n",
    "        cities.append(city)\n",
    "\n",
    "# Print the city count to confirm sufficient count\n",
    "len(cities)"
   ]
  },
  {
   "cell_type": "markdown",
   "metadata": {},
   "source": [
    "### Perform API Calls\n",
    "* Perform a weather check on each city using a series of successive API calls.\n",
    "* Include a print log of each city as it'sbeing processed (with the city number and city name).\n"
   ]
  },
  {
   "cell_type": "code",
   "execution_count": null,
   "metadata": {
    "scrolled": true
   },
   "outputs": [
    {
     "name": "stdout",
     "output_type": "stream",
     "text": [
      "City Name: nikolskoye - City Number: 1\n",
      "City Name: ushuaia - City Number: 2\n",
      "City Name: atuona - City Number: 3\n",
      "City Name: rikitea - City Number: 4\n",
      "City Name: takoradi - City Number: 5\n",
      "City Name: aykhal - City Number: 6\n",
      "City Name: upernavik - City Number: 7\n",
      "City Name: kodiak - City Number: 8\n",
      "City not Found, skipping...\n",
      "City Name: avarua - City Number: 10\n",
      "City Name: kuytun - City Number: 11\n",
      "City Name: florianopolis - City Number: 12\n",
      "City Name: hithadhoo - City Number: 13\n",
      "City Name: mar del plata - City Number: 14\n",
      "City Name: inhambane - City Number: 15\n",
      "City Name: vaini - City Number: 16\n",
      "City Name: aloleng - City Number: 17\n",
      "City Name: georgetown - City Number: 18\n",
      "City Name: pitimbu - City Number: 19\n",
      "City Name: cascais - City Number: 20\n",
      "City Name: quatre cocos - City Number: 21\n",
      "City Name: da lat - City Number: 22\n",
      "City Name: mayachnyy - City Number: 23\n",
      "City Name: kruisfontein - City Number: 24\n",
      "City Name: esperance - City Number: 25\n",
      "City Name: cape town - City Number: 26\n",
      "City Name: hermanus - City Number: 27\n",
      "City Name: zapolyarnyy - City Number: 28\n",
      "City Name: airai - City Number: 29\n",
      "City Name: korla - City Number: 30\n",
      "City Name: saskylakh - City Number: 31\n",
      "City Name: college - City Number: 32\n",
      "City Name: saint george - City Number: 33\n",
      "City Name: narsaq - City Number: 34\n",
      "City not Found, skipping...\n",
      "City Name: manaure - City Number: 36\n",
      "City Name: busselton - City Number: 37\n",
      "City Name: port alfred - City Number: 38\n",
      "City Name: albany - City Number: 39\n",
      "City Name: broken hill - City Number: 40\n",
      "City Name: chuy - City Number: 41\n",
      "City not Found, skipping...\n",
      "City Name: tuktoyaktuk - City Number: 43\n",
      "City Name: hilo - City Number: 44\n",
      "City Name: east london - City Number: 45\n",
      "City Name: asau - City Number: 46\n",
      "City Name: hovd - City Number: 47\n",
      "City Name: puerto ayora - City Number: 48\n",
      "City Name: mineral wells - City Number: 49\n",
      "City Name: teguise - City Number: 50\n",
      "City Name: saint-raymond - City Number: 51\n",
      "City Name: vostok - City Number: 52\n",
      "City Name: xining - City Number: 53\n",
      "City Name: kiama - City Number: 54\n",
      "City Name: kamaishi - City Number: 55\n",
      "City not Found, skipping...\n",
      "City Name: constitucion - City Number: 57\n",
      "City Name: kachiry - City Number: 58\n",
      "City Name: slave lake - City Number: 59\n",
      "City Name: oranjemund - City Number: 60\n",
      "City Name: grobina - City Number: 61\n",
      "City Name: hobart - City Number: 62\n",
      "City Name: kerema - City Number: 63\n",
      "City Name: awbari - City Number: 64\n",
      "City Name: new norfolk - City Number: 65\n",
      "City Name: picayune - City Number: 66\n",
      "City Name: kapaa - City Number: 67\n",
      "City Name: grindavik - City Number: 68\n",
      "City Name: bosobolo - City Number: 69\n",
      "City Name: ca mau - City Number: 70\n",
      "City Name: bredasdorp - City Number: 71\n",
      "City Name: caravelas - City Number: 72\n",
      "City Name: vanimo - City Number: 73\n",
      "City Name: galesong - City Number: 74\n",
      "City Name: kanker - City Number: 75\n",
      "City Name: solnechnyy - City Number: 76\n",
      "City Name: castro - City Number: 77\n",
      "City Name: raudeberg - City Number: 78\n",
      "City not Found, skipping...\n"
     ]
    }
   ],
   "source": [
    "#set a counter for city index\n",
    "index_count = 0\n",
    "\n",
    "# establish initial lists for our dataframe\n",
    "City_ID = []\n",
    "City = []\n",
    "Cloudiness = []\n",
    "Country = []\n",
    "Date = []\n",
    "Humidity = []\n",
    "Lat = []\n",
    "Lng = []\n",
    "Max_Temp = []\n",
    "Wind_Speed = []\n",
    "\n",
    "# loop thru API call and pull data for each city\n",
    "for city in cities:\n",
    "    # try/except call to open weather api to pull data for each city\n",
    "    try:\n",
    "        # api call\n",
    "        response = requests.get(f'http://api.openweathermap.org/data/2.5/weather?q={city}&units=imperial&appid={weather_api_key}')\n",
    "        results=response.json()\n",
    "        \n",
    "        # add 1 to count to city count for each iteration\n",
    "        index_count += 1\n",
    "        \n",
    "        # append data to our DF\n",
    "        City_ID.append(results['id'])\n",
    "        City.append(results['name'])\n",
    "        Cloudiness.append(results['clouds']['all'])\n",
    "        Country.append(results['sys']['country'])\n",
    "        Date.append(results['dt'])\n",
    "        Humidity.append(results['main']['humidity'])\n",
    "        Lat.append(results['coord']['lat'])\n",
    "        Lng.append(results['coord']['lon'])\n",
    "        Max_Temp.append(results['main']['temp_max'])\n",
    "        Wind_Speed.append(results['wind']['speed'])\n",
    "        \n",
    "        # Print log of each city as it's being processed\n",
    "        print(f'City Name: {city} - City Number: {index_count}')\n",
    "       \n",
    "        \n",
    "    except:\n",
    "        # print value if not found\n",
    "        print('City not Found, skipping...')"
   ]
  },
  {
   "cell_type": "markdown",
   "metadata": {},
   "source": [
    "### Convert Raw Data to DataFrame\n",
    "* Export the city data into a .csv.\n",
    "* Display the DataFrame"
   ]
  },
  {
   "cell_type": "code",
   "execution_count": null,
   "metadata": {},
   "outputs": [],
   "source": [
    "#convert the lists into one dataframe\n",
    "weather_df=pd.DataFrame([City_ID,City,Cloudiness,Country,Date,Humidity,Lat,Lng,Max_Temp,Wind_Speed])\n",
    "weather_df=weather_df.transpose()\n",
    "weather_df.columns = ['City ID', 'City', 'Cloudiness','Country', 'Date', 'Humidity','Lat','Lng',\n",
    "                      'Max Temp', 'Wind Speed']\n",
    "weather_df\n",
    "\n",
    "#export the dataframe into a .csv file\n",
    "weather_df.to_csv('../output_data/weather.csv', index=False)\n",
    "pd.read_csv('../output_data/cities2.csv')"
   ]
  },
  {
   "cell_type": "code",
   "execution_count": null,
   "metadata": {},
   "outputs": [],
   "source": []
  },
  {
   "cell_type": "markdown",
   "metadata": {},
   "source": [
    "## Inspect the data and remove the cities where the humidity > 100%.\n",
    "----\n",
    "Skip this step if there are no cities that have humidity > 100%. "
   ]
  },
  {
   "cell_type": "code",
   "execution_count": null,
   "metadata": {},
   "outputs": [],
   "source": []
  },
  {
   "cell_type": "code",
   "execution_count": null,
   "metadata": {},
   "outputs": [],
   "source": [
    "#  Get the indices of cities that have humidity over 100%.\n"
   ]
  },
  {
   "cell_type": "code",
   "execution_count": null,
   "metadata": {},
   "outputs": [],
   "source": [
    "# Make a new DataFrame equal to the city data to drop all humidity outliers by index.\n",
    "# Passing \"inplace=False\" will make a copy of the city_data DataFrame, which we call \"clean_city_data\".\n"
   ]
  },
  {
   "cell_type": "code",
   "execution_count": null,
   "metadata": {},
   "outputs": [],
   "source": [
    "\n"
   ]
  },
  {
   "cell_type": "markdown",
   "metadata": {},
   "source": [
    "## Plotting the Data\n",
    "* Use proper labeling of the plots using plot titles (including date of analysis) and axes labels.\n",
    "* Save the plotted figures as .pngs."
   ]
  },
  {
   "cell_type": "markdown",
   "metadata": {},
   "source": [
    "## Latitude vs. Temperature Plot"
   ]
  },
  {
   "cell_type": "code",
   "execution_count": null,
   "metadata": {
    "scrolled": true
   },
   "outputs": [],
   "source": []
  },
  {
   "cell_type": "markdown",
   "metadata": {},
   "source": [
    "## Latitude vs. Humidity Plot"
   ]
  },
  {
   "cell_type": "code",
   "execution_count": null,
   "metadata": {},
   "outputs": [],
   "source": []
  },
  {
   "cell_type": "markdown",
   "metadata": {},
   "source": [
    "## Latitude vs. Cloudiness Plot"
   ]
  },
  {
   "cell_type": "code",
   "execution_count": null,
   "metadata": {},
   "outputs": [],
   "source": []
  },
  {
   "cell_type": "markdown",
   "metadata": {},
   "source": [
    "## Latitude vs. Wind Speed Plot"
   ]
  },
  {
   "cell_type": "code",
   "execution_count": null,
   "metadata": {},
   "outputs": [],
   "source": []
  },
  {
   "cell_type": "markdown",
   "metadata": {},
   "source": [
    "## Linear Regression"
   ]
  },
  {
   "cell_type": "code",
   "execution_count": null,
   "metadata": {},
   "outputs": [],
   "source": []
  },
  {
   "cell_type": "markdown",
   "metadata": {},
   "source": [
    "####  Northern Hemisphere - Max Temp vs. Latitude Linear Regression"
   ]
  },
  {
   "cell_type": "code",
   "execution_count": null,
   "metadata": {},
   "outputs": [],
   "source": []
  },
  {
   "cell_type": "markdown",
   "metadata": {},
   "source": [
    "####  Southern Hemisphere - Max Temp vs. Latitude Linear Regression"
   ]
  },
  {
   "cell_type": "code",
   "execution_count": null,
   "metadata": {},
   "outputs": [],
   "source": []
  },
  {
   "cell_type": "markdown",
   "metadata": {},
   "source": [
    "####  Northern Hemisphere - Humidity (%) vs. Latitude Linear Regression"
   ]
  },
  {
   "cell_type": "code",
   "execution_count": null,
   "metadata": {},
   "outputs": [],
   "source": []
  },
  {
   "cell_type": "markdown",
   "metadata": {},
   "source": [
    "####  Southern Hemisphere - Humidity (%) vs. Latitude Linear Regression"
   ]
  },
  {
   "cell_type": "code",
   "execution_count": null,
   "metadata": {},
   "outputs": [],
   "source": []
  },
  {
   "cell_type": "markdown",
   "metadata": {},
   "source": [
    "####  Northern Hemisphere - Cloudiness (%) vs. Latitude Linear Regression"
   ]
  },
  {
   "cell_type": "code",
   "execution_count": null,
   "metadata": {},
   "outputs": [],
   "source": []
  },
  {
   "cell_type": "markdown",
   "metadata": {},
   "source": [
    "####  Southern Hemisphere - Cloudiness (%) vs. Latitude Linear Regression"
   ]
  },
  {
   "cell_type": "code",
   "execution_count": null,
   "metadata": {},
   "outputs": [],
   "source": []
  },
  {
   "cell_type": "markdown",
   "metadata": {},
   "source": [
    "####  Northern Hemisphere - Wind Speed (mph) vs. Latitude Linear Regression"
   ]
  },
  {
   "cell_type": "code",
   "execution_count": null,
   "metadata": {},
   "outputs": [],
   "source": []
  },
  {
   "cell_type": "markdown",
   "metadata": {},
   "source": [
    "####  Southern Hemisphere - Wind Speed (mph) vs. Latitude Linear Regression"
   ]
  },
  {
   "cell_type": "code",
   "execution_count": null,
   "metadata": {},
   "outputs": [],
   "source": []
  },
  {
   "cell_type": "code",
   "execution_count": null,
   "metadata": {},
   "outputs": [],
   "source": []
  }
 ],
 "metadata": {
  "anaconda-cloud": {},
  "kernel_info": {
   "name": "python3"
  },
  "kernelspec": {
   "display_name": "Python 3",
   "language": "python",
   "name": "python3"
  },
  "language_info": {
   "codemirror_mode": {
    "name": "ipython",
    "version": 3
   },
   "file_extension": ".py",
   "mimetype": "text/x-python",
   "name": "python",
   "nbconvert_exporter": "python",
   "pygments_lexer": "ipython3",
   "version": "3.8.5"
  },
  "latex_envs": {
   "LaTeX_envs_menu_present": true,
   "autoclose": false,
   "autocomplete": true,
   "bibliofile": "biblio.bib",
   "cite_by": "apalike",
   "current_citInitial": 1,
   "eqLabelWithNumbers": true,
   "eqNumInitial": 1,
   "hotkeys": {
    "equation": "Ctrl-E",
    "itemize": "Ctrl-I"
   },
   "labels_anchors": false,
   "latex_user_defs": false,
   "report_style_numbering": false,
   "user_envs_cfg": false
  },
  "nteract": {
   "version": "0.12.3"
  }
 },
 "nbformat": 4,
 "nbformat_minor": 2
}
